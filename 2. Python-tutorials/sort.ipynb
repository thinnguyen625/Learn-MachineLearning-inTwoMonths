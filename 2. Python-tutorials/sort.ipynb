{
 "cells": [
  {
   "cell_type": "code",
   "execution_count": null,
   "metadata": {},
   "outputs": [],
   "source": [
    "### 1. Bubble Sort (Noi bot)\n",
    "\n",
    "Ý tưởng rất đơn giản:\n",
    "\n",
    "- Ta lặp qua từng phần tử một\n",
    "    - Tại một phần tử\n",
    "        - Ta lặp qua các phần tử còn lại\n",
    "            - Nếu phần tử nào trong các phần tử còn lại mà nhỏ hơn phần tử hiện tại thì thay thể phần tử hiện tại bằng phần tử nhỏ hơn đó"
   ]
  }
 ],
 "metadata": {
  "language_info": {
   "codemirror_mode": {
    "name": "ipython",
    "version": 3
   },
   "file_extension": ".py",
   "mimetype": "text/x-python",
   "name": "python",
   "nbconvert_exporter": "python",
   "pygments_lexer": "ipython3",
   "version": "3.8.0-final"
  },
  "orig_nbformat": 2,
  "kernelspec": {
   "name": "python38064bit32bb8aa7833f46e489300d870b5f290b",
   "display_name": "Python 3.8.0 64-bit"
  }
 },
 "nbformat": 4,
 "nbformat_minor": 2
}