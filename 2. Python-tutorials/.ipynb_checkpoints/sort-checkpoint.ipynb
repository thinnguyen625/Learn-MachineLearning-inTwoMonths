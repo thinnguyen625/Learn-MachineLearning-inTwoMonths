{
 "cells": [
  {
   "cell_type": "markdown",
   "metadata": {},
   "source": [
    "### 1. Bubble Sort (Noi bot)\n",
    "\n",
    "Ý tưởng:\n",
    "\n",
    "- Ta lặp qua từng phần tử một\n",
    "    - Tại một phần tử\n",
    "        - Ta lặp qua các phần tử còn lại\n",
    "            - Nếu phần tử nào trong các phần tử còn lại mà nhỏ hơn phần tử hiện tại thì thay thể phần tử hiện tại bằng phần tử nhỏ hơn đó"
   ]
  },
  {
   "cell_type": "code",
   "execution_count": 1,
   "metadata": {},
   "outputs": [],
   "source": [
    "numbers = [20, 10, 16, 6, 89]"
   ]
  },
  {
   "cell_type": "code",
   "execution_count": 2,
   "metadata": {},
   "outputs": [],
   "source": [
    "for i in range(0, len(numbers)):\n",
    "    for j in range(i+1, len(numbers)):\n",
    "        if numbers[j] < numbers[i]:\n",
    "            temp = numbers[j]\n",
    "            numbers[j] = numbers[i]\n",
    "            numbers[i] = temp"
   ]
  },
  {
   "cell_type": "code",
   "execution_count": 3,
   "metadata": {},
   "outputs": [
    {
     "data": {
      "text/plain": [
       "[6, 10, 16, 20, 89]"
      ]
     },
     "execution_count": 3,
     "metadata": {},
     "output_type": "execute_result"
    }
   ],
   "source": [
    "numbers"
   ]
  },
  {
   "cell_type": "markdown",
   "metadata": {},
   "source": [
    "Độ phức tạp: **O(N^2)**"
   ]
  },
  {
   "cell_type": "markdown",
   "metadata": {},
   "source": [
    "### 2. Insertion Sort\n",
    "\n",
    "Ý tưởng:\n",
    "\n",
    "- Ta lặp qua từng phần tử một:\n",
    "    - Tại một phần tử\n",
    "        - Ta lặp qua các phần tử ở trước phần tử này:\n",
    "            - Tìm vị trí mà phần tử này lớn hơn các phần tử bên trên và nhỏ hơn các phần tử bên phải\n",
    "            - Di chuyển tất cả các phần tử bên phải lên một bật\n",
    "            - Đặt phần tử này vào vị trí đó (Đây chính là ý nghĩa Insertion(chèn))"
   ]
  },
  {
   "cell_type": "code",
   "execution_count": 4,
   "metadata": {},
   "outputs": [],
   "source": [
    "numbers = [100, 20, 10, 16, 6, 89]"
   ]
  },
  {
   "cell_type": "code",
   "execution_count": 5,
   "metadata": {},
   "outputs": [],
   "source": [
    "for i in range(1, len(numbers)):\n",
    "    j = i - 1\n",
    "    curr = numbers[i]\n",
    "    while j >= 0 and curr < numbers[j]:\n",
    "        numbers[j + 1] = numbers[j]\n",
    "        j -= 1\n",
    "    numbers[j+1] = curr"
   ]
  },
  {
   "cell_type": "code",
   "execution_count": 6,
   "metadata": {},
   "outputs": [
    {
     "data": {
      "text/plain": [
       "[6, 10, 16, 20, 89, 100]"
      ]
     },
     "execution_count": 6,
     "metadata": {},
     "output_type": "execute_result"
    }
   ],
   "source": [
    "numbers"
   ]
  },
  {
   "cell_type": "markdown",
   "metadata": {},
   "source": [
    "Độ phức tạp: **O(N^2)**"
   ]
  },
  {
   "cell_type": "code",
   "execution_count": null,
   "metadata": {},
   "outputs": [],
   "source": []
  },
  {
   "cell_type": "code",
   "execution_count": null,
   "metadata": {},
   "outputs": [],
   "source": []
  },
  {
   "cell_type": "code",
   "execution_count": null,
   "metadata": {},
   "outputs": [],
   "source": []
  }
 ],
 "metadata": {
  "kernelspec": {
   "display_name": "Python 3.8.0 64-bit",
   "language": "python",
   "name": "python38064bit32bb8aa7833f46e489300d870b5f290b"
  },
  "language_info": {
   "codemirror_mode": {
    "name": "ipython",
    "version": 3
   },
   "file_extension": ".py",
   "mimetype": "text/x-python",
   "name": "python",
   "nbconvert_exporter": "python",
   "pygments_lexer": "ipython3",
   "version": "3.8.0"
  }
 },
 "nbformat": 4,
 "nbformat_minor": 2
}
